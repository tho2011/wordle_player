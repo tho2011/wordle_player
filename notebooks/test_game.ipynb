{
 "cells": [
  {
   "cell_type": "code",
   "execution_count": 1,
   "id": "0da918d8",
   "metadata": {},
   "outputs": [],
   "source": [
    "import sys\n",
    "import os\n",
    "sys.path.append(os.path.abspath('../wordle'))\n",
    "from wordle import Wordle\n",
    "\n",
    "from colorama import Fore, Style\n",
    "import random"
   ]
  },
  {
   "cell_type": "code",
   "execution_count": 2,
   "id": "ed88b5f7",
   "metadata": {},
   "outputs": [],
   "source": [
    "valid_words = \"../wordle/valid_wordle_words.txt\"\n",
    "targets = \"../wordle/us_solutions.txt\"\n",
    "\n",
    "with open(valid_words, \"r\") as file:\n",
    "    us_list = [word.strip().replace('\"','') for word in file.read().split(',')]\n",
    "    \n",
    "with open(targets, \"r\") as file:\n",
    "    us_soln = [word.strip().replace('\"','') for word in file.read().split(',')]\n",
    "    \n",
    "us_soln.sort()"
   ]
  },
  {
   "cell_type": "code",
   "execution_count": 3,
   "id": "1c96a67c",
   "metadata": {},
   "outputs": [
    {
     "name": "stdout",
     "output_type": "stream",
     "text": [
      "Input guess 1: bells\n",
      "\n",
      "Invalid guess.\n",
      "Input guess 1: bully\n",
      "\n",
      "\u001b[37mb\u001b[33mu\u001b[37ml\u001b[37ml\u001b[37my\n",
      "\n",
      "\u001b[30ma\u001b[37mb\u001b[30mc\u001b[30md\u001b[30me\u001b[30mf\u001b[30mg\u001b[30mh\u001b[30mi\u001b[30mj\u001b[30mk\u001b[37ml\u001b[30mm\u001b[30mn\u001b[30mo\u001b[30mp\u001b[30mq\u001b[30mr\u001b[30ms\u001b[30mt\u001b[33mu\u001b[30mv\u001b[30mw\u001b[30mx\u001b[37my\u001b[30mz\u001b[0m\n",
      "\n",
      "Input guess 2: crumb\n",
      "\n",
      "\u001b[37mb\u001b[33mu\u001b[37ml\u001b[37ml\u001b[37my\n",
      "\u001b[37mc\u001b[33mr\u001b[32mu\u001b[37mm\u001b[37mb\n",
      "\n",
      "\u001b[30ma\u001b[37mb\u001b[37mc\u001b[30md\u001b[30me\u001b[30mf\u001b[30mg\u001b[30mh\u001b[30mi\u001b[30mj\u001b[30mk\u001b[37ml\u001b[37mm\u001b[30mn\u001b[30mo\u001b[30mp\u001b[30mq\u001b[33mr\u001b[30ms\u001b[30mt\u001b[32mu\u001b[30mv\u001b[30mw\u001b[30mx\u001b[37my\u001b[30mz\u001b[0m\n",
      "\n",
      "Input guess 3: rause\n",
      "\n",
      "Invalid guess.\n",
      "Input guess 3: deify\n",
      "\n",
      "Invalid guess.\n",
      "Input guess 3: deity\n",
      "\n",
      "\u001b[37mb\u001b[33mu\u001b[37ml\u001b[37ml\u001b[37my\n",
      "\u001b[37mc\u001b[33mr\u001b[32mu\u001b[37mm\u001b[37mb\n",
      "\u001b[37md\u001b[37me\u001b[37mi\u001b[37mt\u001b[37my\n",
      "\n",
      "\u001b[30ma\u001b[37mb\u001b[37mc\u001b[37md\u001b[37me\u001b[30mf\u001b[30mg\u001b[30mh\u001b[37mi\u001b[30mj\u001b[30mk\u001b[37ml\u001b[37mm\u001b[30mn\u001b[30mo\u001b[30mp\u001b[30mq\u001b[33mr\u001b[30ms\u001b[37mt\u001b[32mu\u001b[30mv\u001b[30mw\u001b[30mx\u001b[37my\u001b[30mz\u001b[0m\n",
      "\n",
      "Input guess 4: rusty\n",
      "\n",
      "\u001b[37mb\u001b[33mu\u001b[37ml\u001b[37ml\u001b[37my\n",
      "\u001b[37mc\u001b[33mr\u001b[32mu\u001b[37mm\u001b[37mb\n",
      "\u001b[37md\u001b[37me\u001b[37mi\u001b[37mt\u001b[37my\n",
      "\u001b[33mr\u001b[33mu\u001b[33ms\u001b[37mt\u001b[37my\n",
      "\n",
      "\u001b[30ma\u001b[37mb\u001b[37mc\u001b[37md\u001b[37me\u001b[30mf\u001b[30mg\u001b[30mh\u001b[37mi\u001b[30mj\u001b[30mk\u001b[37ml\u001b[37mm\u001b[30mn\u001b[30mo\u001b[30mp\u001b[30mq\u001b[33mr\u001b[33ms\u001b[37mt\u001b[32mu\u001b[30mv\u001b[30mw\u001b[30mx\u001b[37my\u001b[30mz\u001b[0m\n",
      "\n",
      "Input guess 5: scurs\n",
      "\n",
      "Invalid guess.\n",
      "Input guess 5: brush\n",
      "\n",
      "\u001b[37mb\u001b[33mu\u001b[37ml\u001b[37ml\u001b[37my\n",
      "\u001b[37mc\u001b[33mr\u001b[32mu\u001b[37mm\u001b[37mb\n",
      "\u001b[37md\u001b[37me\u001b[37mi\u001b[37mt\u001b[37my\n",
      "\u001b[33mr\u001b[33mu\u001b[33ms\u001b[37mt\u001b[37my\n",
      "\u001b[37mb\u001b[33mr\u001b[32mu\u001b[33ms\u001b[37mh\n",
      "\n",
      "\u001b[30ma\u001b[37mb\u001b[37mc\u001b[37md\u001b[37me\u001b[30mf\u001b[30mg\u001b[37mh\u001b[37mi\u001b[30mj\u001b[30mk\u001b[37ml\u001b[37mm\u001b[30mn\u001b[30mo\u001b[30mp\u001b[30mq\u001b[33mr\u001b[33ms\u001b[37mt\u001b[32mu\u001b[30mv\u001b[30mw\u001b[30mx\u001b[37my\u001b[30mz\u001b[0m\n",
      "\n",
      "Input guess 6: wrist\n",
      "\n",
      "\u001b[37mb\u001b[33mu\u001b[37ml\u001b[37ml\u001b[37my\n",
      "\u001b[37mc\u001b[33mr\u001b[32mu\u001b[37mm\u001b[37mb\n",
      "\u001b[37md\u001b[37me\u001b[37mi\u001b[37mt\u001b[37my\n",
      "\u001b[33mr\u001b[33mu\u001b[33ms\u001b[37mt\u001b[37my\n",
      "\u001b[37mb\u001b[33mr\u001b[32mu\u001b[33ms\u001b[37mh\n",
      "\u001b[37mw\u001b[33mr\u001b[37mi\u001b[33ms\u001b[37mt\n",
      "\n",
      "\u001b[30ma\u001b[37mb\u001b[37mc\u001b[37md\u001b[37me\u001b[30mf\u001b[30mg\u001b[37mh\u001b[37mi\u001b[30mj\u001b[30mk\u001b[37ml\u001b[37mm\u001b[30mn\u001b[30mo\u001b[30mp\u001b[30mq\u001b[33mr\u001b[33ms\u001b[37mt\u001b[32mu\u001b[30mv\u001b[37mw\u001b[30mx\u001b[37my\u001b[30mz\u001b[0m\n",
      "\n",
      "spurn\n",
      "Game Over\n"
     ]
    }
   ],
   "source": [
    "game = Wordle(random.choice(us_soln), us_list+us_soln, True)\n",
    "game.play()"
   ]
  },
  {
   "cell_type": "code",
   "execution_count": 4,
   "id": "77e7ddf1",
   "metadata": {},
   "outputs": [
    {
     "name": "stdout",
     "output_type": "stream",
     "text": [
      "Input guess 1: spurn\n",
      "\n",
      "\u001b[37ms\u001b[37mp\u001b[37mu\u001b[33mr\u001b[37mn\n",
      "\n",
      "\u001b[37ma\u001b[37mb\u001b[37mc\u001b[37md\u001b[37me\u001b[37mf\u001b[37mg\u001b[37mh\u001b[37mi\u001b[37mj\u001b[37mk\u001b[37ml\u001b[37mm\u001b[30mn\u001b[37mo\u001b[30mp\u001b[37mq\u001b[33mr\u001b[30ms\u001b[37mt\u001b[30mu\u001b[37mv\u001b[37mw\u001b[37mx\u001b[37my\u001b[37mz\u001b[0m\n",
      "\n",
      "Input guess 2: grind\n",
      "\n",
      "\u001b[37ms\u001b[37mp\u001b[37mu\u001b[33mr\u001b[37mn\n",
      "\u001b[37mg\u001b[32mr\u001b[32mi\u001b[37mn\u001b[37md\n",
      "\n",
      "\u001b[37ma\u001b[37mb\u001b[37mc\u001b[30md\u001b[37me\u001b[37mf\u001b[30mg\u001b[37mh\u001b[32mi\u001b[37mj\u001b[37mk\u001b[37ml\u001b[37mm\u001b[30mn\u001b[37mo\u001b[30mp\u001b[37mq\u001b[32mr\u001b[30ms\u001b[37mt\u001b[30mu\u001b[37mv\u001b[37mw\u001b[37mx\u001b[37my\u001b[37mz\u001b[0m\n",
      "\n",
      "Input guess 3: trick\n",
      "\n",
      "\u001b[37ms\u001b[37mp\u001b[37mu\u001b[33mr\u001b[37mn\n",
      "\u001b[37mg\u001b[32mr\u001b[32mi\u001b[37mn\u001b[37md\n",
      "\u001b[32mt\u001b[32mr\u001b[32mi\u001b[37mc\u001b[37mk\n",
      "\n",
      "\u001b[37ma\u001b[37mb\u001b[30mc\u001b[30md\u001b[37me\u001b[37mf\u001b[30mg\u001b[37mh\u001b[32mi\u001b[37mj\u001b[30mk\u001b[37ml\u001b[37mm\u001b[30mn\u001b[37mo\u001b[30mp\u001b[37mq\u001b[32mr\u001b[30ms\u001b[32mt\u001b[30mu\u001b[37mv\u001b[37mw\u001b[37mx\u001b[37my\u001b[37mz\u001b[0m\n",
      "\n",
      "Input guess 4: tribe\n",
      "\n",
      "\u001b[37ms\u001b[37mp\u001b[37mu\u001b[33mr\u001b[37mn\n",
      "\u001b[37mg\u001b[32mr\u001b[32mi\u001b[37mn\u001b[37md\n",
      "\u001b[32mt\u001b[32mr\u001b[32mi\u001b[37mc\u001b[37mk\n",
      "\u001b[32mt\u001b[32mr\u001b[32mi\u001b[37mb\u001b[32me\n",
      "\n",
      "\u001b[37ma\u001b[30mb\u001b[30mc\u001b[30md\u001b[32me\u001b[37mf\u001b[30mg\u001b[37mh\u001b[32mi\u001b[37mj\u001b[30mk\u001b[37ml\u001b[37mm\u001b[30mn\u001b[37mo\u001b[30mp\u001b[37mq\u001b[32mr\u001b[30ms\u001b[32mt\u001b[30mu\u001b[37mv\u001b[37mw\u001b[37mx\u001b[37my\u001b[37mz\u001b[0m\n",
      "\n",
      "Input guess 5: trite\n",
      "\n",
      "\u001b[37ms\u001b[37mp\u001b[37mu\u001b[33mr\u001b[37mn\n",
      "\u001b[37mg\u001b[32mr\u001b[32mi\u001b[37mn\u001b[37md\n",
      "\u001b[32mt\u001b[32mr\u001b[32mi\u001b[37mc\u001b[37mk\n",
      "\u001b[32mt\u001b[32mr\u001b[32mi\u001b[37mb\u001b[32me\n",
      "\u001b[32mt\u001b[32mr\u001b[32mi\u001b[32mt\u001b[32me\n",
      "\n",
      "\u001b[37ma\u001b[30mb\u001b[30mc\u001b[30md\u001b[32me\u001b[37mf\u001b[30mg\u001b[37mh\u001b[32mi\u001b[37mj\u001b[30mk\u001b[37ml\u001b[37mm\u001b[30mn\u001b[37mo\u001b[30mp\u001b[37mq\u001b[32mr\u001b[30ms\u001b[32mt\u001b[30mu\u001b[37mv\u001b[37mw\u001b[37mx\u001b[37my\u001b[37mz\u001b[0m\n",
      "\n",
      "Guessed in 5 tries\n",
      "\n",
      "Game Over\n"
     ]
    }
   ],
   "source": [
    "game = Wordle(random.choice(us_soln), us_list+us_soln)\n",
    "game.play()"
   ]
  },
  {
   "cell_type": "code",
   "execution_count": null,
   "id": "72ba2b37",
   "metadata": {},
   "outputs": [],
   "source": []
  }
 ],
 "metadata": {
  "kernelspec": {
   "display_name": "Python 3 (ipykernel)",
   "language": "python",
   "name": "python3"
  },
  "language_info": {
   "codemirror_mode": {
    "name": "ipython",
    "version": 3
   },
   "file_extension": ".py",
   "mimetype": "text/x-python",
   "name": "python",
   "nbconvert_exporter": "python",
   "pygments_lexer": "ipython3",
   "version": "3.8.13"
  }
 },
 "nbformat": 4,
 "nbformat_minor": 5
}
