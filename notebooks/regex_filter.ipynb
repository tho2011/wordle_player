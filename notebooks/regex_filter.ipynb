{
 "cells": [
  {
   "cell_type": "code",
   "execution_count": 1,
   "id": "07f2f0c7",
   "metadata": {},
   "outputs": [],
   "source": [
    "import re"
   ]
  },
  {
   "cell_type": "code",
   "execution_count": 2,
   "id": "36b26b39",
   "metadata": {},
   "outputs": [],
   "source": [
    "valid_words = \"../wordle/valid_wordle_words.txt\"\n",
    "targets = \"../wordle/us_solutions.txt\"\n",
    "\n",
    "with open(valid_words, \"r\") as file:\n",
    "    us_list = [word.strip().replace('\"','') for word in file.read().split(',')]\n",
    "    \n",
    "with open(targets, \"r\") as file:\n",
    "    us_soln = [word.strip().replace('\"','') for word in file.read().split(',')]\n",
    "    \n",
    "words = us_list + us_soln"
   ]
  },
  {
   "cell_type": "code",
   "execution_count": 3,
   "id": "454bf53b",
   "metadata": {},
   "outputs": [],
   "source": [
    "pattern1 = re.compile('[^ight]{5}')\n",
    "candidates_l1 = [ s for s in words if pattern1.match(s) ]\n",
    "\n",
    "pattern2 = re.compile('\\wl\\w{3}|\\w{2}l\\w{2}|\\w{3}l\\w{1}|\\w{4}l')\n",
    "candidates_l2 =  [ s for s in candidates_l1 if pattern2.match(s) ]"
   ]
  },
  {
   "cell_type": "code",
   "execution_count": 14,
   "id": "767987e0",
   "metadata": {},
   "outputs": [],
   "source": [
    "pattern3 = re.compile('\\wa\\w{3}|\\w{2}a\\w{2}|\\w{3}a\\w{1}|\\w{4}a|\\w{2}l\\w{2}|\\w{3}l\\w{1}|\\w{4}l')\n",
    "candidates_l3 =  [ s for s in candidates_l2 if pattern3.match(s) ]\n",
    "\n",
    "pattern4 = re.compile('[^bum]{5}')\n",
    "candidates_l4 =  [ s for s in candidates_l3 if pattern4.match(s) ]\n",
    "\n",
    "pattern5 = re.compile('\\wa\\w{3}|\\w{2}a\\w{2}|\\w{4}a|\\w{2}l\\w{2}|\\w{3}l\\w{1}')\n",
    "candidates_l5 =  [ s for s in candidates_l4 if pattern5.match(s) ]\n",
    "\n",
    "pattern6 = re.compile('[^fo]{5}')\n",
    "candidates_l6 =  [ s for s in candidates_l5 if pattern6.match(s) ]\n",
    "\n",
    "pattern7 = re.compile('c')\n",
    "candidates_l7 =  [ s for s in candidates_l6 if pattern7.match(s) ]"
   ]
  },
  {
   "cell_type": "code",
   "execution_count": 15,
   "id": "7af0cdae",
   "metadata": {},
   "outputs": [
    {
     "data": {
      "text/plain": [
       "7"
      ]
     },
     "execution_count": 15,
     "metadata": {},
     "output_type": "execute_result"
    }
   ],
   "source": [
    "len(candidates_l7)"
   ]
  },
  {
   "cell_type": "code",
   "execution_count": 16,
   "id": "10c795d2",
   "metadata": {},
   "outputs": [
    {
     "data": {
      "text/plain": [
       "['class', 'cycle', 'clasp', 'canal', 'crawl', 'clack', 'clank']"
      ]
     },
     "execution_count": 16,
     "metadata": {},
     "output_type": "execute_result"
    }
   ],
   "source": [
    "candidates_l7"
   ]
  },
  {
   "cell_type": "code",
   "execution_count": null,
   "id": "9dcba0a8",
   "metadata": {},
   "outputs": [],
   "source": []
  }
 ],
 "metadata": {
  "kernelspec": {
   "display_name": "Python 3 (ipykernel)",
   "language": "python",
   "name": "python3"
  },
  "language_info": {
   "codemirror_mode": {
    "name": "ipython",
    "version": 3
   },
   "file_extension": ".py",
   "mimetype": "text/x-python",
   "name": "python",
   "nbconvert_exporter": "python",
   "pygments_lexer": "ipython3",
   "version": "3.8.13"
  }
 },
 "nbformat": 4,
 "nbformat_minor": 5
}
