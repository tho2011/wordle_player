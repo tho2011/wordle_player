{
 "cells": [
  {
   "cell_type": "code",
   "execution_count": 9,
   "id": "b6c35789",
   "metadata": {},
   "outputs": [],
   "source": [
    "import re\n",
    "import string\n",
    "\n",
    "import pandas as pd\n",
    "import matplotlib.pyplot as plt"
   ]
  },
  {
   "cell_type": "code",
   "execution_count": 2,
   "id": "15fb5c90",
   "metadata": {},
   "outputs": [],
   "source": [
    "words = []\n",
    "with open('valid_wordle_words.txt','r') as file:\n",
    "    for word in file.readlines():\n",
    "        words.append(word.rstrip())"
   ]
  },
  {
   "cell_type": "code",
   "execution_count": 3,
   "id": "919ea9f8",
   "metadata": {},
   "outputs": [
    {
     "data": {
      "text/plain": [
       "12972"
      ]
     },
     "execution_count": 3,
     "metadata": {},
     "output_type": "execute_result"
    }
   ],
   "source": [
    "len(words)"
   ]
  },
  {
   "cell_type": "code",
   "execution_count": 4,
   "id": "2cd969b0",
   "metadata": {},
   "outputs": [],
   "source": [
    "df = pd.DataFrame((list(word) for word in words))\n",
    "df.columns = ['c1','c2','c3','c4','c5']"
   ]
  },
  {
   "cell_type": "code",
   "execution_count": 5,
   "id": "62f5895e",
   "metadata": {},
   "outputs": [
    {
     "data": {
      "text/html": [
       "<div>\n",
       "<style scoped>\n",
       "    .dataframe tbody tr th:only-of-type {\n",
       "        vertical-align: middle;\n",
       "    }\n",
       "\n",
       "    .dataframe tbody tr th {\n",
       "        vertical-align: top;\n",
       "    }\n",
       "\n",
       "    .dataframe thead th {\n",
       "        text-align: right;\n",
       "    }\n",
       "</style>\n",
       "<table border=\"1\" class=\"dataframe\">\n",
       "  <thead>\n",
       "    <tr style=\"text-align: right;\">\n",
       "      <th></th>\n",
       "      <th>c1</th>\n",
       "      <th>c2</th>\n",
       "      <th>c3</th>\n",
       "      <th>c4</th>\n",
       "      <th>c5</th>\n",
       "    </tr>\n",
       "  </thead>\n",
       "  <tbody>\n",
       "    <tr>\n",
       "      <th>0</th>\n",
       "      <td>a</td>\n",
       "      <td>a</td>\n",
       "      <td>h</td>\n",
       "      <td>e</td>\n",
       "      <td>d</td>\n",
       "    </tr>\n",
       "    <tr>\n",
       "      <th>1</th>\n",
       "      <td>a</td>\n",
       "      <td>a</td>\n",
       "      <td>l</td>\n",
       "      <td>i</td>\n",
       "      <td>i</td>\n",
       "    </tr>\n",
       "    <tr>\n",
       "      <th>2</th>\n",
       "      <td>a</td>\n",
       "      <td>a</td>\n",
       "      <td>r</td>\n",
       "      <td>g</td>\n",
       "      <td>h</td>\n",
       "    </tr>\n",
       "    <tr>\n",
       "      <th>3</th>\n",
       "      <td>a</td>\n",
       "      <td>a</td>\n",
       "      <td>r</td>\n",
       "      <td>t</td>\n",
       "      <td>i</td>\n",
       "    </tr>\n",
       "    <tr>\n",
       "      <th>4</th>\n",
       "      <td>a</td>\n",
       "      <td>b</td>\n",
       "      <td>a</td>\n",
       "      <td>c</td>\n",
       "      <td>a</td>\n",
       "    </tr>\n",
       "    <tr>\n",
       "      <th>...</th>\n",
       "      <td>...</td>\n",
       "      <td>...</td>\n",
       "      <td>...</td>\n",
       "      <td>...</td>\n",
       "      <td>...</td>\n",
       "    </tr>\n",
       "    <tr>\n",
       "      <th>12967</th>\n",
       "      <td>z</td>\n",
       "      <td>u</td>\n",
       "      <td>z</td>\n",
       "      <td>i</td>\n",
       "      <td>m</td>\n",
       "    </tr>\n",
       "    <tr>\n",
       "      <th>12968</th>\n",
       "      <td>z</td>\n",
       "      <td>y</td>\n",
       "      <td>g</td>\n",
       "      <td>a</td>\n",
       "      <td>l</td>\n",
       "    </tr>\n",
       "    <tr>\n",
       "      <th>12969</th>\n",
       "      <td>z</td>\n",
       "      <td>y</td>\n",
       "      <td>g</td>\n",
       "      <td>o</td>\n",
       "      <td>n</td>\n",
       "    </tr>\n",
       "    <tr>\n",
       "      <th>12970</th>\n",
       "      <td>z</td>\n",
       "      <td>y</td>\n",
       "      <td>m</td>\n",
       "      <td>e</td>\n",
       "      <td>s</td>\n",
       "    </tr>\n",
       "    <tr>\n",
       "      <th>12971</th>\n",
       "      <td>z</td>\n",
       "      <td>y</td>\n",
       "      <td>m</td>\n",
       "      <td>i</td>\n",
       "      <td>c</td>\n",
       "    </tr>\n",
       "  </tbody>\n",
       "</table>\n",
       "<p>12972 rows × 5 columns</p>\n",
       "</div>"
      ],
      "text/plain": [
       "      c1 c2 c3 c4 c5\n",
       "0      a  a  h  e  d\n",
       "1      a  a  l  i  i\n",
       "2      a  a  r  g  h\n",
       "3      a  a  r  t  i\n",
       "4      a  b  a  c  a\n",
       "...   .. .. .. .. ..\n",
       "12967  z  u  z  i  m\n",
       "12968  z  y  g  a  l\n",
       "12969  z  y  g  o  n\n",
       "12970  z  y  m  e  s\n",
       "12971  z  y  m  i  c\n",
       "\n",
       "[12972 rows x 5 columns]"
      ]
     },
     "execution_count": 5,
     "metadata": {},
     "output_type": "execute_result"
    }
   ],
   "source": [
    "df"
   ]
  },
  {
   "cell_type": "code",
   "execution_count": 11,
   "id": "547288ad",
   "metadata": {},
   "outputs": [],
   "source": [
    "freqs = [{},{},{},{},{}]\n",
    "for ch in string.ascii_lowercase:\n",
    "#     first_letter_freq[ch] = len([word for word in words if re.match(f\"^{ch}\",word)])\n",
    "    freqs[0][ch] = df.query(f\"c1=='{ch}'\").shape[0]\n",
    "    freqs[1][ch] = df.query(f\"c2=='{ch}'\").shape[0]\n",
    "    freqs[2][ch] = df.query(f\"c3=='{ch}'\").shape[0]\n",
    "    freqs[3][ch] = df.query(f\"c4=='{ch}'\").shape[0]\n",
    "    freqs[4][ch] = df.query(f\"c5=='{ch}'\").shape[0]"
   ]
  },
  {
   "cell_type": "code",
   "execution_count": 12,
   "id": "240657a1",
   "metadata": {},
   "outputs": [
    {
     "data": {
      "text/plain": [
       "{'a': 737,\n",
       " 'b': 909,\n",
       " 'c': 922,\n",
       " 'd': 685,\n",
       " 'e': 303,\n",
       " 'f': 598,\n",
       " 'g': 638,\n",
       " 'h': 489,\n",
       " 'i': 165,\n",
       " 'j': 202,\n",
       " 'k': 376,\n",
       " 'l': 577,\n",
       " 'm': 693,\n",
       " 'n': 325,\n",
       " 'o': 262,\n",
       " 'p': 859,\n",
       " 'q': 78,\n",
       " 'r': 628,\n",
       " 's': 1565,\n",
       " 't': 815,\n",
       " 'u': 189,\n",
       " 'v': 242,\n",
       " 'w': 413,\n",
       " 'x': 16,\n",
       " 'y': 181,\n",
       " 'z': 105}"
      ]
     },
     "execution_count": 12,
     "metadata": {},
     "output_type": "execute_result"
    }
   ],
   "source": [
    "first_letter_freq"
   ]
  },
  {
   "cell_type": "code",
   "execution_count": 13,
   "id": "d4ce2aa9",
   "metadata": {},
   "outputs": [
    {
     "data": {
      "text/plain": [
       "{'a': 737,\n",
       " 'b': 909,\n",
       " 'c': 922,\n",
       " 'd': 685,\n",
       " 'e': 303,\n",
       " 'f': 598,\n",
       " 'g': 638,\n",
       " 'h': 489,\n",
       " 'i': 165,\n",
       " 'j': 202,\n",
       " 'k': 376,\n",
       " 'l': 577,\n",
       " 'm': 693,\n",
       " 'n': 325,\n",
       " 'o': 262,\n",
       " 'p': 859,\n",
       " 'q': 78,\n",
       " 'r': 628,\n",
       " 's': 1565,\n",
       " 't': 815,\n",
       " 'u': 189,\n",
       " 'v': 242,\n",
       " 'w': 413,\n",
       " 'x': 16,\n",
       " 'y': 181,\n",
       " 'z': 105}"
      ]
     },
     "execution_count": 13,
     "metadata": {},
     "output_type": "execute_result"
    }
   ],
   "source": [
    "freqs[0]"
   ]
  },
  {
   "cell_type": "code",
   "execution_count": 14,
   "id": "556115af",
   "metadata": {},
   "outputs": [
    {
     "data": {
      "text/plain": [
       "{'a': 2263,\n",
       " 'b': 81,\n",
       " 'c': 176,\n",
       " 'd': 84,\n",
       " 'e': 1628,\n",
       " 'f': 24,\n",
       " 'g': 76,\n",
       " 'h': 546,\n",
       " 'i': 1383,\n",
       " 'j': 11,\n",
       " 'k': 95,\n",
       " 'l': 699,\n",
       " 'm': 188,\n",
       " 'n': 345,\n",
       " 'o': 2096,\n",
       " 'p': 231,\n",
       " 'q': 15,\n",
       " 'r': 940,\n",
       " 's': 93,\n",
       " 't': 239,\n",
       " 'u': 1187,\n",
       " 'v': 52,\n",
       " 'w': 163,\n",
       " 'x': 57,\n",
       " 'y': 271,\n",
       " 'z': 29}"
      ]
     },
     "execution_count": 14,
     "metadata": {},
     "output_type": "execute_result"
    }
   ],
   "source": [
    "freqs[1]"
   ]
  },
  {
   "cell_type": "code",
   "execution_count": 15,
   "id": "c1517075",
   "metadata": {},
   "outputs": [
    {
     "data": {
      "image/png": "[encoded data removed]",
      "text/plain": [
       "<Figure size 432x288 with 1 Axes>"
      ]
     },
     "metadata": {
      "needs_background": "light"
     },
     "output_type": "display_data"
    }
   ],
   "source": [
    "n = 0\n",
    "plt.bar(list(freqs[n].keys()), freqs[n].values())\n",
    "plt.show()"
   ]
  },
  {
   "cell_type": "code",
   "execution_count": 16,
   "id": "857ebdc8",
   "metadata": {},
   "outputs": [
    {
     "data": {
      "image/png": "[encoded data removed]",
      "text/plain": [
       "<Figure size 432x288 with 1 Axes>"
      ]
     },
     "metadata": {
      "needs_background": "light"
     },
     "output_type": "display_data"
    }
   ],
   "source": [
    "n = 1\n",
    "plt.bar(list(freqs[n].keys()), freqs[n].values())\n",
    "plt.show()"
   ]
  },
  {
   "cell_type": "code",
   "execution_count": 18,
   "id": "1a3a917a",
   "metadata": {},
   "outputs": [
    {
     "data": {
      "image/png": "[encoded data removed]",
      "text/plain": [
       "<Figure size 432x288 with 1 Axes>"
      ]
     },
     "metadata": {
      "needs_background": "light"
     },
     "output_type": "display_data"
    }
   ],
   "source": [
    "n = 2\n",
    "plt.bar(list(freqs[n].keys()), freqs[n].values())\n",
    "plt.show()"
   ]
  },
  {
   "cell_type": "code",
   "execution_count": 19,
   "id": "c51dbf71",
   "metadata": {},
   "outputs": [
    {
     "data": {
      "image/png": "[encoded data removed]",
      "text/plain": [
       "<Figure size 432x288 with 1 Axes>"
      ]
     },
     "metadata": {
      "needs_background": "light"
     },
     "output_type": "display_data"
    }
   ],
   "source": [
    "n = 3\n",
    "plt.bar(list(freqs[n].keys()), freqs[n].values())\n",
    "plt.show()"
   ]
  },
  {
   "cell_type": "code",
   "execution_count": 20,
   "id": "3cea42aa",
   "metadata": {},
   "outputs": [
    {
     "data": {
      "image/png": "[encoded data removed]",
      "text/plain": [
       "<Figure size 432x288 with 1 Axes>"
      ]
     },
     "metadata": {
      "needs_background": "light"
     },
     "output_type": "display_data"
    }
   ],
   "source": [
    "n = 4\n",
    "plt.bar(list(freqs[n].keys()), freqs[n].values())\n",
    "plt.show()"
   ]
  },
  {
   "cell_type": "code",
   "execution_count": 22,
   "id": "d5673624",
   "metadata": {},
   "outputs": [
    {
     "data": {
      "text/html": [
       "<div>\n",
       "<style scoped>\n",
       "    .dataframe tbody tr th:only-of-type {\n",
       "        vertical-align: middle;\n",
       "    }\n",
       "\n",
       "    .dataframe tbody tr th {\n",
       "        vertical-align: top;\n",
       "    }\n",
       "\n",
       "    .dataframe thead th {\n",
       "        text-align: right;\n",
       "    }\n",
       "</style>\n",
       "<table border=\"1\" class=\"dataframe\">\n",
       "  <thead>\n",
       "    <tr style=\"text-align: right;\">\n",
       "      <th></th>\n",
       "      <th>c1</th>\n",
       "      <th>c2</th>\n",
       "      <th>c3</th>\n",
       "      <th>c4</th>\n",
       "      <th>c5</th>\n",
       "    </tr>\n",
       "  </thead>\n",
       "  <tbody>\n",
       "    <tr>\n",
       "      <th>4400</th>\n",
       "      <td>g</td>\n",
       "      <td>l</td>\n",
       "      <td>a</td>\n",
       "      <td>d</td>\n",
       "      <td>s</td>\n",
       "    </tr>\n",
       "    <tr>\n",
       "      <th>5795</th>\n",
       "      <td>k</td>\n",
       "      <td>h</td>\n",
       "      <td>a</td>\n",
       "      <td>f</td>\n",
       "      <td>s</td>\n",
       "    </tr>\n",
       "    <tr>\n",
       "      <th>11826</th>\n",
       "      <td>u</td>\n",
       "      <td>d</td>\n",
       "      <td>a</td>\n",
       "      <td>l</td>\n",
       "      <td>s</td>\n",
       "    </tr>\n",
       "    <tr>\n",
       "      <th>7918</th>\n",
       "      <td>p</td>\n",
       "      <td>a</td>\n",
       "      <td>l</td>\n",
       "      <td>a</td>\n",
       "      <td>s</td>\n",
       "    </tr>\n",
       "    <tr>\n",
       "      <th>2930</th>\n",
       "      <td>d</td>\n",
       "      <td>o</td>\n",
       "      <td>e</td>\n",
       "      <td>k</td>\n",
       "      <td>s</td>\n",
       "    </tr>\n",
       "    <tr>\n",
       "      <th>4370</th>\n",
       "      <td>g</td>\n",
       "      <td>i</td>\n",
       "      <td>n</td>\n",
       "      <td>k</td>\n",
       "      <td>s</td>\n",
       "    </tr>\n",
       "    <tr>\n",
       "      <th>1953</th>\n",
       "      <td>c</td>\n",
       "      <td>h</td>\n",
       "      <td>i</td>\n",
       "      <td>t</td>\n",
       "      <td>s</td>\n",
       "    </tr>\n",
       "    <tr>\n",
       "      <th>741</th>\n",
       "      <td>b</td>\n",
       "      <td>a</td>\n",
       "      <td>b</td>\n",
       "      <td>e</td>\n",
       "      <td>s</td>\n",
       "    </tr>\n",
       "    <tr>\n",
       "      <th>2130</th>\n",
       "      <td>c</td>\n",
       "      <td>l</td>\n",
       "      <td>u</td>\n",
       "      <td>e</td>\n",
       "      <td>s</td>\n",
       "    </tr>\n",
       "    <tr>\n",
       "      <th>6584</th>\n",
       "      <td>l</td>\n",
       "      <td>y</td>\n",
       "      <td>m</td>\n",
       "      <td>e</td>\n",
       "      <td>s</td>\n",
       "    </tr>\n",
       "    <tr>\n",
       "      <th>3508</th>\n",
       "      <td>e</td>\n",
       "      <td>v</td>\n",
       "      <td>e</td>\n",
       "      <td>t</td>\n",
       "      <td>s</td>\n",
       "    </tr>\n",
       "    <tr>\n",
       "      <th>10861</th>\n",
       "      <td>s</td>\n",
       "      <td>u</td>\n",
       "      <td>k</td>\n",
       "      <td>h</td>\n",
       "      <td>s</td>\n",
       "    </tr>\n",
       "    <tr>\n",
       "      <th>64</th>\n",
       "      <td>a</td>\n",
       "      <td>c</td>\n",
       "      <td>c</td>\n",
       "      <td>a</td>\n",
       "      <td>s</td>\n",
       "    </tr>\n",
       "    <tr>\n",
       "      <th>2073</th>\n",
       "      <td>c</td>\n",
       "      <td>l</td>\n",
       "      <td>e</td>\n",
       "      <td>f</td>\n",
       "      <td>s</td>\n",
       "    </tr>\n",
       "    <tr>\n",
       "      <th>7197</th>\n",
       "      <td>m</td>\n",
       "      <td>u</td>\n",
       "      <td>g</td>\n",
       "      <td>g</td>\n",
       "      <td>s</td>\n",
       "    </tr>\n",
       "    <tr>\n",
       "      <th>7098</th>\n",
       "      <td>m</td>\n",
       "      <td>o</td>\n",
       "      <td>o</td>\n",
       "      <td>r</td>\n",
       "      <td>s</td>\n",
       "    </tr>\n",
       "    <tr>\n",
       "      <th>2048</th>\n",
       "      <td>c</td>\n",
       "      <td>l</td>\n",
       "      <td>a</td>\n",
       "      <td>m</td>\n",
       "      <td>s</td>\n",
       "    </tr>\n",
       "    <tr>\n",
       "      <th>2946</th>\n",
       "      <td>d</td>\n",
       "      <td>o</td>\n",
       "      <td>i</td>\n",
       "      <td>t</td>\n",
       "      <td>s</td>\n",
       "    </tr>\n",
       "    <tr>\n",
       "      <th>5980</th>\n",
       "      <td>k</td>\n",
       "      <td>u</td>\n",
       "      <td>d</td>\n",
       "      <td>u</td>\n",
       "      <td>s</td>\n",
       "    </tr>\n",
       "    <tr>\n",
       "      <th>5762</th>\n",
       "      <td>k</td>\n",
       "      <td>e</td>\n",
       "      <td>m</td>\n",
       "      <td>b</td>\n",
       "      <td>s</td>\n",
       "    </tr>\n",
       "  </tbody>\n",
       "</table>\n",
       "</div>"
      ],
      "text/plain": [
       "      c1 c2 c3 c4 c5\n",
       "4400   g  l  a  d  s\n",
       "5795   k  h  a  f  s\n",
       "11826  u  d  a  l  s\n",
       "7918   p  a  l  a  s\n",
       "2930   d  o  e  k  s\n",
       "4370   g  i  n  k  s\n",
       "1953   c  h  i  t  s\n",
       "741    b  a  b  e  s\n",
       "2130   c  l  u  e  s\n",
       "6584   l  y  m  e  s\n",
       "3508   e  v  e  t  s\n",
       "10861  s  u  k  h  s\n",
       "64     a  c  c  a  s\n",
       "2073   c  l  e  f  s\n",
       "7197   m  u  g  g  s\n",
       "7098   m  o  o  r  s\n",
       "2048   c  l  a  m  s\n",
       "2946   d  o  i  t  s\n",
       "5980   k  u  d  u  s\n",
       "5762   k  e  m  b  s"
      ]
     },
     "execution_count": 22,
     "metadata": {},
     "output_type": "execute_result"
    }
   ],
   "source": [
    "df.query(\"c5=='s'\").sample(20)"
   ]
  },
  {
   "cell_type": "code",
   "execution_count": null,
   "id": "b37202c7",
   "metadata": {},
   "outputs": [],
   "source": []
  }
 ],
 "metadata": {
  "kernelspec": {
   "display_name": "Python 3 (ipykernel)",
   "language": "python",
   "name": "python3"
  },
  "language_info": {
   "codemirror_mode": {
    "name": "ipython",
    "version": 3
   },
   "file_extension": ".py",
   "mimetype": "text/x-python",
   "name": "python",
   "nbconvert_exporter": "python",
   "pygments_lexer": "ipython3",
   "version": "3.9.9"
  }
 },
 "nbformat": 4,
 "nbformat_minor": 5
}
