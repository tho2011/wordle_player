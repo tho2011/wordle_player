{
 "cells": [
  {
   "cell_type": "code",
   "execution_count": null,
   "id": "b6c35789",
   "metadata": {},
   "outputs": [],
   "source": [
    "import re\n",
    "import string\n",
    "\n",
    "import pandas as pd\n",
    "import matplotlib.pyplot as plt"
   ]
  },
  {
   "cell_type": "code",
   "execution_count": null,
   "id": "15fb5c90",
   "metadata": {},
   "outputs": [],
   "source": [
    "words = []\n",
    "with open('../wordle/valid_wordle_words.txt','r') as file:\n",
    "    for word in file.readlines():\n",
    "        words.append(word.rstrip())"
   ]
  },
  {
   "cell_type": "code",
   "execution_count": null,
   "id": "919ea9f8",
   "metadata": {},
   "outputs": [],
   "source": [
    "len(words)"
   ]
  },
  {
   "cell_type": "code",
   "execution_count": null,
   "id": "2cd969b0",
   "metadata": {},
   "outputs": [],
   "source": [
    "df = pd.DataFrame((list(word) for word in words))\n",
    "df.columns = ['c1','c2','c3','c4','c5']"
   ]
  },
  {
   "cell_type": "code",
   "execution_count": null,
   "id": "62f5895e",
   "metadata": {},
   "outputs": [],
   "source": [
    "df"
   ]
  },
  {
   "cell_type": "code",
   "execution_count": null,
   "id": "547288ad",
   "metadata": {},
   "outputs": [],
   "source": [
    "freqs = [{},{},{},{},{}]\n",
    "for ch in string.ascii_lowercase:\n",
    "#     first_letter_freq[ch] = len([word for word in words if re.match(f\"^{ch}\",word)])\n",
    "    freqs[0][ch] = df.query(f\"c1=='{ch}'\").shape[0]\n",
    "    freqs[1][ch] = df.query(f\"c2=='{ch}'\").shape[0]\n",
    "    freqs[2][ch] = df.query(f\"c3=='{ch}'\").shape[0]\n",
    "    freqs[3][ch] = df.query(f\"c4=='{ch}'\").shape[0]\n",
    "    freqs[4][ch] = df.query(f\"c5=='{ch}'\").shape[0]"
   ]
  },
  {
   "cell_type": "code",
   "execution_count": null,
   "id": "240657a1",
   "metadata": {},
   "outputs": [],
   "source": [
    "first_letter_freq"
   ]
  },
  {
   "cell_type": "code",
   "execution_count": null,
   "id": "d4ce2aa9",
   "metadata": {},
   "outputs": [],
   "source": [
    "freqs[0]"
   ]
  },
  {
   "cell_type": "code",
   "execution_count": null,
   "id": "556115af",
   "metadata": {},
   "outputs": [],
   "source": [
    "freqs[1]"
   ]
  },
  {
   "cell_type": "code",
   "execution_count": null,
   "id": "c1517075",
   "metadata": {},
   "outputs": [],
   "source": [
    "n = 0\n",
    "plt.bar(list(freqs[n].keys()), freqs[n].values())\n",
    "plt.show()"
   ]
  },
  {
   "cell_type": "code",
   "execution_count": null,
   "id": "857ebdc8",
   "metadata": {},
   "outputs": [],
   "source": [
    "n = 1\n",
    "plt.bar(list(freqs[n].keys()), freqs[n].values())\n",
    "plt.show()"
   ]
  },
  {
   "cell_type": "code",
   "execution_count": null,
   "id": "1a3a917a",
   "metadata": {},
   "outputs": [],
   "source": [
    "n = 2\n",
    "plt.bar(list(freqs[n].keys()), freqs[n].values())\n",
    "plt.show()"
   ]
  },
  {
   "cell_type": "code",
   "execution_count": null,
   "id": "c51dbf71",
   "metadata": {},
   "outputs": [],
   "source": [
    "n = 3\n",
    "plt.bar(list(freqs[n].keys()), freqs[n].values())\n",
    "plt.show()"
   ]
  },
  {
   "cell_type": "code",
   "execution_count": null,
   "id": "3cea42aa",
   "metadata": {},
   "outputs": [],
   "source": [
    "n = 4\n",
    "plt.bar(list(freqs[n].keys()), freqs[n].values())\n",
    "plt.show()"
   ]
  },
  {
   "cell_type": "code",
   "execution_count": null,
   "id": "d5673624",
   "metadata": {},
   "outputs": [],
   "source": [
    "df.query(\"c5=='s'\").sample(20)"
   ]
  },
  {
   "cell_type": "code",
   "execution_count": null,
   "id": "b37202c7",
   "metadata": {},
   "outputs": [],
   "source": []
  }
 ],
 "metadata": {
  "kernelspec": {
   "display_name": "Python 3 (ipykernel)",
   "language": "python",
   "name": "python3"
  },
  "language_info": {
   "codemirror_mode": {
    "name": "ipython",
    "version": 3
   },
   "file_extension": ".py",
   "mimetype": "text/x-python",
   "name": "python",
   "nbconvert_exporter": "python",
   "pygments_lexer": "ipython3",
   "version": "3.8.13"
  }
 },
 "nbformat": 4,
 "nbformat_minor": 5
}
